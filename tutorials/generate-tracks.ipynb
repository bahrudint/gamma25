{
 "cells": [
  {
   "cell_type": "markdown",
   "id": "05c639d8",
   "metadata": {},
   "source": [
    "# Generation of PENELOPE Tracks Using the S3DF Server\n",
    "\n",
    "This tutorial describes how to generate electron or photon tracks using the **PENELOPE** simulation tool via the SLAC S3DF computing cluster. \n",
    "## 📂 Location\n",
    "All relevant files are located in:"
   ]
  },
  {
   "cell_type": "code",
   "execution_count": null,
   "id": "f0e32bee",
   "metadata": {},
   "outputs": [],
   "source": [
    "/sdf/group/kipac/users/gammaTPC/GenTracks"
   ]
  },
  {
   "cell_type": "markdown",
   "id": "7b7cc6dd",
   "metadata": {},
   "source": [
    "*navigate there*\n",
    "\n",
    "## 🧠 Overview\n",
    "\n",
    "The script `generate_pen_tracks_on_cluster.py` does the following:\n",
    "\n",
    "1. Defines track generation settings (energy, number of tracks, particle type, material).\n",
    "2. Automatically creates batch Python scripts and SLURM `.sbatch` files.\n",
    "3. Submits jobs to the S3DF SLURM scheduler.\n",
    "4. Saves outputs in a versioned `Tracks` directory.\n",
    "\n",
    "---\n",
    "\n",
    "## ⚙️ Prerequisites\n",
    "\n",
    "Before running the script:\n",
    "\n",
    "* Ensure that `Gampy` is installed and accessible.\n",
    "\n",
    "* Confirm that the PENELOPE executable exists at:\n",
    "\n",
    "  ```\n",
    "  ./execute\n",
    "  ```\n",
    "\n",
    "* The environment must support SLURM (`sbatch` available).\n",
    "\n",
    "---\n",
    "\n",
    "## 📄 Script Usage\n",
    "\n",
    "### 1. Edit User Settings in `genTracks.py`\n",
    "\n",
    "At the top of the script, modify these settings to suit your needs:"
   ]
  },
  {
   "cell_type": "code",
   "execution_count": null,
   "id": "7a7231d0",
   "metadata": {},
   "outputs": [],
   "source": [
    "PARTICLES = 'electrons'  # or 'photons'\n",
    "MATERIAL  = 'LAr'\n",
    "MAX_BATCH = 250  # max number of tracks per job\n",
    "\n",
    "TRACK_CONFIGS = [\n",
    "    {'energy': 100, 'num_tracks': 100},\n",
    "    {'energy': 300, 'num_tracks': 100},\n",
    "    # Add more energy configurations here\n",
    "    # energy is in keV\n",
    "]"
   ]
  },
  {
   "cell_type": "markdown",
   "id": "9d24b1c7",
   "metadata": {},
   "source": [
    "### 2. Run the Script\n",
    "\n",
    "From the main directory:"
   ]
  },
  {
   "cell_type": "code",
   "execution_count": null,
   "id": "4fd921fa",
   "metadata": {},
   "outputs": [],
   "source": [
    "%%bash\n",
    "python3 generate_pen_tracks_on_cluster.py"
   ]
  },
  {
   "cell_type": "markdown",
   "id": "5a9b4cdd",
   "metadata": {},
   "source": [
    "This will:\n",
    "\n",
    "* Create a directory `sbatch_scripts/` with all generated scripts.\n",
    "* Create a new `Tracks/` output folder with a timestamp if one already exists.\n",
    "* Submit jobs via SLURM automatically.\n",
    "\n",
    "---\n",
    "\n",
    "*Move the output to your desired loaction*\n",
    "\n",
    "\n",
    "## 📁 Output\n",
    "\n",
    "Each batch job will generate Penelope tracks and save results in:"
   ]
  },
  {
   "cell_type": "code",
   "execution_count": null,
   "id": "d11ff9d5",
   "metadata": {},
   "outputs": [],
   "source": [
    "Tracks/{material}/{particle_type}/E{energy}/"
   ]
  },
  {
   "cell_type": "markdown",
   "id": "fbee656f",
   "metadata": {},
   "source": [
    "You can expect one folder per energy level.\n",
    "\n",
    "---\n",
    "\n",
    "## 🔄 Re-running the Script\n",
    "\n",
    "If `sbatch_scripts/` or `Tracks/` already exists, they will either be:\n",
    "\n",
    "* **Deleted** (for `sbatch_scripts`)\n",
    "* **Renamed** with a timestamp (for `Tracks`)\n",
    "\n",
    "This ensures no overwriting of old results.\n",
    "\n",
    "---\n",
    "\n",
    "## 🧪 Example Output Message"
   ]
  },
  {
   "cell_type": "code",
   "execution_count": null,
   "id": "d7bbed80",
   "metadata": {},
   "outputs": [],
   "source": [
    "%%bash\n",
    "✅ Submitted batch 1 for 100 keV\n",
    "✅ Submitted batch 2 for 100 keV\n",
    "✅ Submitted batch 1 for 300 keV\n",
    "...\n",
    "📦 All # jobs launched."
   ]
  },
  {
   "cell_type": "markdown",
   "id": "666d58d4",
   "metadata": {},
   "source": [
    "---\n",
    "\n",
    "## 🔍 Troubleshooting\n",
    "\n",
    "* ❌ **Executable not found**:\n",
    "  Ensure `./execute` is present and executable.\n",
    "\n",
    "* ❌ **Gampy not installed**:\n",
    "  Install `Gampy` into your Python environment.\n",
    "\n",
    "* 🔒 **Permission errors**:\n",
    "  Make sure the output directory is writable.\n",
    "\n",
    "---\n",
    "\n",
    "## 📌 Notes\n",
    "\n",
    "* Each job is submitted using SLURM and has a memory limit of 4G and 2 hours runtime.\n",
    "* Output logs are currently directed to `/dev/null`. You can modify the `SBATCH_TEMPLATE` to enable logging if desired."
   ]
  }
 ],
 "metadata": {},
 "nbformat": 4,
 "nbformat_minor": 5
}
