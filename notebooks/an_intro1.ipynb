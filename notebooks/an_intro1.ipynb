### **📝 Notebook 1: Introduction to Electron Tracks**

# 🟢 Introduction to Electron Tracks in GammaTPC

This notebook introduces the concept of **electron tracks**, explains their origin, and shows you how they look in 3D.

## 📚 Theory Overview

**Electron Tracks**:
- Generated when gamma-rays interact in Liquid Argon (LAr).
- Two common interaction types: 
  - **Compton scattering**: gamma-ray scatters off electrons.
  - **Pair production**: gamma-ray creates an electron-positron pair.

Tracks are recorded by **TPC (Time Projection Chambers)** using **charge readout** (e.g., GAMPix).

---

## 🛠 Setting up the environment

Install these packages if needed:

```python
!pip install numpy matplotlib
````

---

## 📂 Loading Track Data

Here's how you load track data:

```python
import numpy as np
data = np.load('example_data/electrons/E0020000/TrackE0020000_00001.npz')
print("Available keys:", list(data.keys()))
positions = data['r']  # shape (3, N)
charge = data['num_e'] # shape (N,)
```

### ✅ **Check yourself:**

* What does each array (`positions`, `charge`) represent?

---

## 📊 Visualizing Tracks in 3D

Basic visualization:

```python
import matplotlib.pyplot as plt
from mpl_toolkits.mplot3d import Axes3D

fig = plt.figure(figsize=(8, 6))
ax = fig.add_subplot(111, projection='3d')
ax.scatter(positions[0], positions[1], positions[2], s=1, alpha=0.5)
ax.set_xlabel('X (m)')
ax.set_ylabel('Y (m)')
ax.set_zlabel('Z (m)')
plt.title("Electron Track Visualization")
plt.show()
```

### 🎯 **Challenge:**

* Plot different tracks from `example_data`. Notice any patterns?

---

## ✏️ Exercise & Questions

* How many points typically form a track?
* Can you see any clear "starting point"?

### 🛠️ **Interactive Task:**

Create a function `plot_track(filename)` to visualize any given track file easily.


---

